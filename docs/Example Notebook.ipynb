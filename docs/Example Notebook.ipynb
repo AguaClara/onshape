{
 "cells": [
  {
   "cell_type": "code",
   "execution_count": 5,
   "metadata": {
    "ExecuteTime": {
     "end_time": "2018-08-16T17:25:25.486097Z",
     "start_time": "2018-08-16T17:25:12.897564Z"
    }
   },
   "outputs": [],
   "source": [
    "from onshapepy.play import *\n",
    "import time\n",
    "import numpy as np\n",
    "\n",
    "# Plug in any part URL you have write access to\n",
    "cube = Part(\"https://cad.onshape.com/documents/2d47b6abec9d1de1d2538372/w/39e483948767f72c97d2792f/e/0639ea3c439aa0947744d29a\")\n",
    "\n",
    "# Dancing cube - because we can...\n",
    "t_end = time.time()+ 10 \n",
    "while time.time() < t_end:\n",
    "    cube.params = {'h': np.random.rand()*300*u.mm}\n",
    "    time.sleep(0.5)\n",
    "    \n",
    "cube.params = {'h': 100*u.mm}\n"
   ]
  },
  {
   "cell_type": "code",
   "execution_count": null,
   "metadata": {},
   "outputs": [],
   "source": []
  }
 ],
 "metadata": {
  "kernelspec": {
   "display_name": "onshapepy-y6H8viRv",
   "language": "python",
   "name": "onshapepy-y6h8virv"
  },
  "language_info": {
   "codemirror_mode": {
    "name": "ipython",
    "version": 3
   },
   "file_extension": ".py",
   "mimetype": "text/x-python",
   "name": "python",
   "nbconvert_exporter": "python",
   "pygments_lexer": "ipython3",
   "version": "3.5.5"
  },
  "varInspector": {
   "cols": {
    "lenName": 16,
    "lenType": 16,
    "lenVar": 40
   },
   "kernels_config": {
    "python": {
     "delete_cmd_postfix": "",
     "delete_cmd_prefix": "del ",
     "library": "var_list.py",
     "varRefreshCmd": "print(var_dic_list())"
    },
    "r": {
     "delete_cmd_postfix": ") ",
     "delete_cmd_prefix": "rm(",
     "library": "var_list.r",
     "varRefreshCmd": "cat(var_dic_list()) "
    }
   },
   "types_to_exclude": [
    "module",
    "function",
    "builtin_function_or_method",
    "instance",
    "_Feature"
   ],
   "window_display": false
  }
 },
 "nbformat": 4,
 "nbformat_minor": 1
}
